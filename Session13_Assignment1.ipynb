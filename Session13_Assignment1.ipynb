{
 "cells": [
  {
   "cell_type": "code",
   "execution_count": 23,
   "metadata": {},
   "outputs": [],
   "source": [
    "import pandas as pd\n",
    "import numpy as np\n",
    "import matplotlib.pyplot as plt\n",
    "import sqlite3"
   ]
  },
  {
   "cell_type": "code",
   "execution_count": 24,
   "metadata": {},
   "outputs": [],
   "source": [
    "adult=pd.read_csv('https://archive.ics.uci.edu/ml/machine-learning-databases/adult/adult.data')"
   ]
  },
  {
   "cell_type": "code",
   "execution_count": 25,
   "metadata": {},
   "outputs": [
    {
     "data": {
      "text/html": [
       "<div>\n",
       "<style scoped>\n",
       "    .dataframe tbody tr th:only-of-type {\n",
       "        vertical-align: middle;\n",
       "    }\n",
       "\n",
       "    .dataframe tbody tr th {\n",
       "        vertical-align: top;\n",
       "    }\n",
       "\n",
       "    .dataframe thead th {\n",
       "        text-align: right;\n",
       "    }\n",
       "</style>\n",
       "<table border=\"1\" class=\"dataframe\">\n",
       "  <thead>\n",
       "    <tr style=\"text-align: right;\">\n",
       "      <th></th>\n",
       "      <th>age</th>\n",
       "      <th>workclass</th>\n",
       "      <th>fnlwgt</th>\n",
       "      <th>education</th>\n",
       "      <th>education_num</th>\n",
       "      <th>marital_status</th>\n",
       "      <th>occupation</th>\n",
       "      <th>relationship</th>\n",
       "      <th>race</th>\n",
       "      <th>sex</th>\n",
       "      <th>capital_gain</th>\n",
       "      <th>capital_loss</th>\n",
       "      <th>hours_per_week</th>\n",
       "      <th>native_country</th>\n",
       "      <th>income</th>\n",
       "    </tr>\n",
       "  </thead>\n",
       "  <tbody>\n",
       "    <tr>\n",
       "      <th>0</th>\n",
       "      <td>50</td>\n",
       "      <td>Self-emp-not-inc</td>\n",
       "      <td>83311</td>\n",
       "      <td>Bachelors</td>\n",
       "      <td>13</td>\n",
       "      <td>Married-civ-spouse</td>\n",
       "      <td>Exec-managerial</td>\n",
       "      <td>Husband</td>\n",
       "      <td>White</td>\n",
       "      <td>Male</td>\n",
       "      <td>0</td>\n",
       "      <td>0</td>\n",
       "      <td>13</td>\n",
       "      <td>United-States</td>\n",
       "      <td>&lt;=50K</td>\n",
       "    </tr>\n",
       "    <tr>\n",
       "      <th>1</th>\n",
       "      <td>38</td>\n",
       "      <td>Private</td>\n",
       "      <td>215646</td>\n",
       "      <td>HS-grad</td>\n",
       "      <td>9</td>\n",
       "      <td>Divorced</td>\n",
       "      <td>Handlers-cleaners</td>\n",
       "      <td>Not-in-family</td>\n",
       "      <td>White</td>\n",
       "      <td>Male</td>\n",
       "      <td>0</td>\n",
       "      <td>0</td>\n",
       "      <td>40</td>\n",
       "      <td>United-States</td>\n",
       "      <td>&lt;=50K</td>\n",
       "    </tr>\n",
       "    <tr>\n",
       "      <th>2</th>\n",
       "      <td>53</td>\n",
       "      <td>Private</td>\n",
       "      <td>234721</td>\n",
       "      <td>11th</td>\n",
       "      <td>7</td>\n",
       "      <td>Married-civ-spouse</td>\n",
       "      <td>Handlers-cleaners</td>\n",
       "      <td>Husband</td>\n",
       "      <td>Black</td>\n",
       "      <td>Male</td>\n",
       "      <td>0</td>\n",
       "      <td>0</td>\n",
       "      <td>40</td>\n",
       "      <td>United-States</td>\n",
       "      <td>&lt;=50K</td>\n",
       "    </tr>\n",
       "    <tr>\n",
       "      <th>3</th>\n",
       "      <td>28</td>\n",
       "      <td>Private</td>\n",
       "      <td>338409</td>\n",
       "      <td>Bachelors</td>\n",
       "      <td>13</td>\n",
       "      <td>Married-civ-spouse</td>\n",
       "      <td>Prof-specialty</td>\n",
       "      <td>Wife</td>\n",
       "      <td>Black</td>\n",
       "      <td>Female</td>\n",
       "      <td>0</td>\n",
       "      <td>0</td>\n",
       "      <td>40</td>\n",
       "      <td>Cuba</td>\n",
       "      <td>&lt;=50K</td>\n",
       "    </tr>\n",
       "    <tr>\n",
       "      <th>4</th>\n",
       "      <td>37</td>\n",
       "      <td>Private</td>\n",
       "      <td>284582</td>\n",
       "      <td>Masters</td>\n",
       "      <td>14</td>\n",
       "      <td>Married-civ-spouse</td>\n",
       "      <td>Exec-managerial</td>\n",
       "      <td>Wife</td>\n",
       "      <td>White</td>\n",
       "      <td>Female</td>\n",
       "      <td>0</td>\n",
       "      <td>0</td>\n",
       "      <td>40</td>\n",
       "      <td>United-States</td>\n",
       "      <td>&lt;=50K</td>\n",
       "    </tr>\n",
       "  </tbody>\n",
       "</table>\n",
       "</div>"
      ],
      "text/plain": [
       "   age          workclass  fnlwgt   education  education_num  \\\n",
       "0   50   Self-emp-not-inc   83311   Bachelors             13   \n",
       "1   38            Private  215646     HS-grad              9   \n",
       "2   53            Private  234721        11th              7   \n",
       "3   28            Private  338409   Bachelors             13   \n",
       "4   37            Private  284582     Masters             14   \n",
       "\n",
       "        marital_status          occupation    relationship    race      sex  \\\n",
       "0   Married-civ-spouse     Exec-managerial         Husband   White     Male   \n",
       "1             Divorced   Handlers-cleaners   Not-in-family   White     Male   \n",
       "2   Married-civ-spouse   Handlers-cleaners         Husband   Black     Male   \n",
       "3   Married-civ-spouse      Prof-specialty            Wife   Black   Female   \n",
       "4   Married-civ-spouse     Exec-managerial            Wife   White   Female   \n",
       "\n",
       "   capital_gain  capital_loss  hours_per_week  native_country  income  \n",
       "0             0             0              13   United-States   <=50K  \n",
       "1             0             0              40   United-States   <=50K  \n",
       "2             0             0              40   United-States   <=50K  \n",
       "3             0             0              40            Cuba   <=50K  \n",
       "4             0             0              40   United-States   <=50K  "
      ]
     },
     "execution_count": 25,
     "metadata": {},
     "output_type": "execute_result"
    }
   ],
   "source": [
    "adult.columns =[\"age\",\"workclass\",\"fnlwgt\",\"education\",\"education_num\",\"marital_status\",\"occupation\",\"relationship\",\"race\",\"sex\",\"capital_gain\",\"capital_loss\",\"hours_per_week\",\"native_country\",\"income\"]\n",
    "adult.head(5)"
   ]
  },
  {
   "cell_type": "code",
   "execution_count": 26,
   "metadata": {},
   "outputs": [],
   "source": [
    "#Create an sqlalchemy engine using a sample from the data set"
   ]
  },
  {
   "cell_type": "code",
   "execution_count": 27,
   "metadata": {},
   "outputs": [],
   "source": [
    "import sqlalchemy\n",
    "from sqlalchemy import create_engine\n",
    "engine = create_engine('sqlite:///sqladb', echo=False)\n",
    "adult.to_sql('sqladb', engine, if_exists='replace')\n",
    "\n",
    "connection  = sqlite3.connect(\"sqladb\")\n",
    "cursor = connection.cursor()"
   ]
  },
  {
   "cell_type": "code",
   "execution_count": 28,
   "metadata": {},
   "outputs": [],
   "source": [
    "# Write two basic update queries"
   ]
  },
  {
   "cell_type": "code",
   "execution_count": 29,
   "metadata": {},
   "outputs": [
    {
     "name": "stdout",
     "output_type": "stream",
     "text": [
      "   index  age          workclass  fnlwgt   education  education_num  \\\n",
      "0      0   50   Self-emp-not-inc   11111   Bachelors             13   \n",
      "1      1   38            Private  215646     HS-grad              9   \n",
      "2      2   53            Private  234721        11th              7   \n",
      "3      3   28            Private  338409   Bachelors             13   \n",
      "4      4   37            Private  284582     Masters             14   \n",
      "\n",
      "        marital_status          occupation    relationship    race      sex  \\\n",
      "0   Married-civ-spouse     Exec-managerial         Husband   White     Male   \n",
      "1             Divorced   Handlers-cleaners   Not-in-family   White     Male   \n",
      "2   Married-civ-spouse   Handlers-cleaners         Husband   Black     Male   \n",
      "3   Married-civ-spouse      Prof-specialty            Wife   Black   Female   \n",
      "4   Married-civ-spouse     Exec-managerial            Wife   White   Female   \n",
      "\n",
      "   capital_gain  capital_loss  hours_per_week  native_country  income  \n",
      "0             0             0              13   United-States   <=50K  \n",
      "1             0             0              40   United-States   <=50K  \n",
      "2             0             0              40   United-States   <=50K  \n",
      "3             0             0              40            Cuba   <=50K  \n",
      "4             0             0              40   United-States   <=50K  \n"
     ]
    }
   ],
   "source": [
    "cursor.execute('UPDATE sqladb SET fnlwgt = \"11111\" WHERE fnlwgt = \" 83311\"')\n",
    "print(pd.read_sql_query(\"SELECT * FROM sqladb\", connection).head(5))"
   ]
  },
  {
   "cell_type": "code",
   "execution_count": 30,
   "metadata": {},
   "outputs": [
    {
     "name": "stdout",
     "output_type": "stream",
     "text": [
      "   index  age          workclass  fnlwgt   education  education_num  \\\n",
      "0      0   50   Self-emp-not-inc   11111   Bachelors             13   \n",
      "1      1   38     Private Sector  215646     HS-grad              9   \n",
      "2      2   53     Private Sector  234721        11th              7   \n",
      "3      3   28     Private Sector  338409   Bachelors             13   \n",
      "4      4   37     Private Sector  284582     Masters             14   \n",
      "\n",
      "        marital_status          occupation    relationship    race      sex  \\\n",
      "0   Married-civ-spouse     Exec-managerial         Husband   White     Male   \n",
      "1             Divorced   Handlers-cleaners   Not-in-family   White     Male   \n",
      "2   Married-civ-spouse   Handlers-cleaners         Husband   Black     Male   \n",
      "3   Married-civ-spouse      Prof-specialty            Wife   Black   Female   \n",
      "4   Married-civ-spouse     Exec-managerial            Wife   White   Female   \n",
      "\n",
      "   capital_gain  capital_loss  hours_per_week  native_country  income  \n",
      "0             0             0              13   United-States   <=50K  \n",
      "1             0             0              40   United-States   <=50K  \n",
      "2             0             0              40   United-States   <=50K  \n",
      "3             0             0              40            Cuba   <=50K  \n",
      "4             0             0              40   United-States   <=50K  \n"
     ]
    }
   ],
   "source": [
    "cursor.execute('UPDATE sqladb SET workclass = \"Private Sector\" WHERE workclass = \" Private\"')\n",
    "print(pd.read_sql_query(\"SELECT * FROM sqladb\", connection).head(5))"
   ]
  },
  {
   "cell_type": "code",
   "execution_count": 31,
   "metadata": {},
   "outputs": [],
   "source": [
    "#Write two delete queries"
   ]
  },
  {
   "cell_type": "code",
   "execution_count": 32,
   "metadata": {},
   "outputs": [
    {
     "name": "stdout",
     "output_type": "stream",
     "text": [
      "   index  age       workclass  fnlwgt   education  education_num  \\\n",
      "0      1   38  Private Sector  215646     HS-grad              9   \n",
      "1      2   53  Private Sector  234721        11th              7   \n",
      "2      3   28  Private Sector  338409   Bachelors             13   \n",
      "3      4   37  Private Sector  284582     Masters             14   \n",
      "4      5   49  Private Sector  160187         9th              5   \n",
      "\n",
      "           marital_status          occupation    relationship    race  \\\n",
      "0                Divorced   Handlers-cleaners   Not-in-family   White   \n",
      "1      Married-civ-spouse   Handlers-cleaners         Husband   Black   \n",
      "2      Married-civ-spouse      Prof-specialty            Wife   Black   \n",
      "3      Married-civ-spouse     Exec-managerial            Wife   White   \n",
      "4   Married-spouse-absent       Other-service   Not-in-family   Black   \n",
      "\n",
      "       sex  capital_gain  capital_loss  hours_per_week  native_country  income  \n",
      "0     Male             0             0              40   United-States   <=50K  \n",
      "1     Male             0             0              40   United-States   <=50K  \n",
      "2   Female             0             0              40            Cuba   <=50K  \n",
      "3   Female             0             0              40   United-States   <=50K  \n",
      "4   Female             0             0              16         Jamaica   <=50K  \n"
     ]
    }
   ],
   "source": [
    "cursor.execute('DELETE FROM sqladb WHERE fnlwgt = \" 11111\"')\n",
    "print(pd.read_sql_query(\"SELECT * FROM sqladb\", connection).head(5))"
   ]
  },
  {
   "cell_type": "code",
   "execution_count": 33,
   "metadata": {},
   "outputs": [
    {
     "name": "stdout",
     "output_type": "stream",
     "text": [
      "   index  age          workclass  fnlwgt   education  education_num  \\\n",
      "0      2   53     Private Sector  234721        11th              7   \n",
      "1      3   28     Private Sector  338409   Bachelors             13   \n",
      "2      4   37     Private Sector  284582     Masters             14   \n",
      "3      5   49     Private Sector  160187         9th              5   \n",
      "4      6   52   Self-emp-not-inc  209642     HS-grad              9   \n",
      "\n",
      "           marital_status          occupation    relationship    race  \\\n",
      "0      Married-civ-spouse   Handlers-cleaners         Husband   Black   \n",
      "1      Married-civ-spouse      Prof-specialty            Wife   Black   \n",
      "2      Married-civ-spouse     Exec-managerial            Wife   White   \n",
      "3   Married-spouse-absent       Other-service   Not-in-family   Black   \n",
      "4      Married-civ-spouse     Exec-managerial         Husband   White   \n",
      "\n",
      "       sex  capital_gain  capital_loss  hours_per_week  native_country  income  \n",
      "0     Male             0             0              40   United-States   <=50K  \n",
      "1   Female             0             0              40            Cuba   <=50K  \n",
      "2   Female             0             0              40   United-States   <=50K  \n",
      "3   Female             0             0              16         Jamaica   <=50K  \n",
      "4     Male             0             0              45   United-States    >50K  \n"
     ]
    }
   ],
   "source": [
    "cursor.execute('DELETE FROM sqladb WHERE age = \" 38\"')\n",
    "print(pd.read_sql_query(\"SELECT * FROM sqladb\", connection).head(5))"
   ]
  },
  {
   "cell_type": "code",
   "execution_count": 34,
   "metadata": {},
   "outputs": [
    {
     "name": "stdout",
     "output_type": "stream",
     "text": [
      "   index  age          workclass  fnlwgt   education  education_num  \\\n",
      "0      3   28     Private Sector  338409   Bachelors             13   \n",
      "1      4   37     Private Sector  284582     Masters             14   \n",
      "2      5   49     Private Sector  160187         9th              5   \n",
      "3      6   52   Self-emp-not-inc  209642     HS-grad              9   \n",
      "4      7   31     Private Sector   45781     Masters             14   \n",
      "\n",
      "           marital_status        occupation    relationship    race      sex  \\\n",
      "0      Married-civ-spouse    Prof-specialty            Wife   Black   Female   \n",
      "1      Married-civ-spouse   Exec-managerial            Wife   White   Female   \n",
      "2   Married-spouse-absent     Other-service   Not-in-family   Black   Female   \n",
      "3      Married-civ-spouse   Exec-managerial         Husband   White     Male   \n",
      "4           Never-married    Prof-specialty   Not-in-family   White   Female   \n",
      "\n",
      "   capital_gain  capital_loss  hours_per_week  native_country  income  \n",
      "0             0             0              40            Cuba   <=50K  \n",
      "1             0             0              40   United-States   <=50K  \n",
      "2             0             0              16         Jamaica   <=50K  \n",
      "3             0             0              45   United-States    >50K  \n",
      "4         14084             0              50   United-States    >50K  \n"
     ]
    }
   ],
   "source": [
    "cursor.execute('DELETE FROM sqladb WHERE education_num = \" 7\"')\n",
    "print(pd.read_sql_query(\"SELECT * FROM sqladb\", connection).head(5))"
   ]
  },
  {
   "cell_type": "code",
   "execution_count": 35,
   "metadata": {},
   "outputs": [],
   "source": [
    "#Write two filter queries"
   ]
  },
  {
   "cell_type": "code",
   "execution_count": 36,
   "metadata": {},
   "outputs": [
    {
     "name": "stdout",
     "output_type": "stream",
     "text": [
      "[(12965, 23, 'Private Sector', 526164, ' Bachelors', 13, ' Never-married', ' Adm-clerical', ' Unmarried', ' Black', ' Female', 0, 0, 40, ' United-States', ' <=50K'), (16657, 22, 'Private Sector', 203182, ' Bachelors', 13, ' Never-married', ' Exec-managerial', ' Unmarried', ' White', ' Female', 0, 0, 30, ' United-States', ' <=50K'), (20335, 24, 'Private Sector', 187937, ' Bachelors', 13, ' Never-married', ' Prof-specialty', ' Unmarried', ' White', ' Female', 0, 0, 40, ' United-States', ' <=50K'), (31478, 24, 'Private Sector', 498349, ' Bachelors', 13, ' Never-married', ' Transport-moving', ' Unmarried', ' Black', ' Female', 0, 0, 40, ' United-States', ' <=50K')]\n"
     ]
    }
   ],
   "source": [
    "cursor.execute('SELECT DISTINCT * FROM sqladb WHERE education = \" Bachelors\" AND age < 25 AND relationship = \" Unmarried\" AND sex = \" Female\" and native_country=\" United-States\"')\n",
    "output = cursor.fetchall()\n",
    "print(output)"
   ]
  },
  {
   "cell_type": "code",
   "execution_count": 37,
   "metadata": {},
   "outputs": [
    {
     "name": "stdout",
     "output_type": "stream",
     "text": [
      "[(1094, 22, ' Self-emp-not-inc', 361280, ' Bachelors', 13, ' Never-married', ' Prof-specialty', ' Own-child', ' Asian-Pac-Islander', ' Male', 0, 0, 20, ' India', ' <=50K')]\n"
     ]
    }
   ],
   "source": [
    "cursor.execute('SELECT DISTINCT * FROM sqladb WHERE education = \" Bachelors\" and age < 25 and income <= \"50k\" and native_country=\" India\"')\n",
    "output = cursor.fetchall()\n",
    "print(output)"
   ]
  },
  {
   "cell_type": "code",
   "execution_count": 38,
   "metadata": {},
   "outputs": [],
   "source": [
    "#Write two function queries"
   ]
  },
  {
   "cell_type": "code",
   "execution_count": 39,
   "metadata": {},
   "outputs": [],
   "source": [
    "def new_entry(db_file, new_data):\n",
    "    \n",
    "    query = \"INSERT INTO sqladb VALUES (?, ?, ?, ?, ?, ?, ?, ?, ?, ?, ?, ?, ?, ?, ?, ?);\"\n",
    "\n",
    "    cursor.execute(query, list(new_data))\n",
    "    cursor.close()\n",
    "    connection.close()\n",
    "\n",
    "new_entry('sqladb',('32660', '30','Private', '7861369', 'Masters', '9', 'Married', 'Front_End', 'In_Family', 'Indian', 'Male', '0', '0', '40', 'United-States', '>=50K'))"
   ]
  },
  {
   "cell_type": "code",
   "execution_count": 40,
   "metadata": {},
   "outputs": [
    {
     "name": "stdout",
     "output_type": "stream",
     "text": [
      "[(44.490311710193765,)]\n"
     ]
    }
   ],
   "source": [
    "def age_check():\n",
    "    connection = sqlite3.connect(\"sqladb\")\n",
    "    cursor = connection.cursor()\n",
    "    cursor.execute('SELECT avg(age) FROM sqladb WHERE education=\" Masters\" AND sex=\" Male\"')\n",
    "    output = cursor.fetchall()\n",
    "    print(output)    \n",
    "    connection.close()\n",
    "\n",
    "age_check()"
   ]
  },
  {
   "cell_type": "code",
   "execution_count": 41,
   "metadata": {},
   "outputs": [],
   "source": [
    "connection.close()"
   ]
  }
 ],
 "metadata": {
  "kernelspec": {
   "display_name": "Python 3",
   "language": "python",
   "name": "python3"
  },
  "language_info": {
   "codemirror_mode": {
    "name": "ipython",
    "version": 3
   },
   "file_extension": ".py",
   "mimetype": "text/x-python",
   "name": "python",
   "nbconvert_exporter": "python",
   "pygments_lexer": "ipython3",
   "version": "3.7.0"
  }
 },
 "nbformat": 4,
 "nbformat_minor": 2
}
